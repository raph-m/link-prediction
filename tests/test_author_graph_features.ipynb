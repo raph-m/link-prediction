{
 "cells": [
  {
   "cell_type": "code",
   "execution_count": 1,
   "metadata": {},
   "outputs": [
    {
     "ename": "ImportError",
     "evalue": "No module named 'code.feature_engineering'; 'code' is not a package",
     "output_type": "error",
     "traceback": [
      "\u001b[0;31m---------------------------------------------------------------------------\u001b[0m",
      "\u001b[0;31mImportError\u001b[0m                               Traceback (most recent call last)",
      "\u001b[0;32m<ipython-input-1-a6f3aa142ae6>\u001b[0m in \u001b[0;36m<module>\u001b[0;34m()\u001b[0m\n\u001b[1;32m      5\u001b[0m \u001b[0;32mimport\u001b[0m \u001b[0migraph\u001b[0m\u001b[0;34m\u001b[0m\u001b[0m\n\u001b[1;32m      6\u001b[0m \u001b[0;34m\u001b[0m\u001b[0m\n\u001b[0;32m----> 7\u001b[0;31m \u001b[0;32mfrom\u001b[0m \u001b[0mcode\u001b[0m\u001b[0;34m.\u001b[0m\u001b[0mfeature_engineering\u001b[0m\u001b[0;34m.\u001b[0m\u001b[0mtools\u001b[0m \u001b[0;32mimport\u001b[0m \u001b[0mlit_eval_nan_proof\u001b[0m\u001b[0;34m\u001b[0m\u001b[0m\n\u001b[0m\u001b[1;32m      8\u001b[0m \u001b[0;34m\u001b[0m\u001b[0m\n\u001b[1;32m      9\u001b[0m \u001b[0;31m# progress bar for pandas\u001b[0m\u001b[0;34m\u001b[0m\u001b[0;34m\u001b[0m\u001b[0m\n",
      "\u001b[0;31mImportError\u001b[0m: No module named 'code.feature_engineering'; 'code' is not a package"
     ]
    }
   ],
   "source": [
    "import pandas as pd\n",
    "import numpy as np\n",
    "from tqdm import tqdm\n",
    "from itertools import permutations\n",
    "import igraph\n",
    "\n",
    "from code.feature_engineering.tools import lit_eval_nan_proof\n",
    "\n",
    "# progress bar for pandas\n",
    "tqdm.pandas(tqdm())\n",
    "\n",
    "# path\n",
    "path_to_data = \"../../data/\"\n",
    "\n",
    "# loading data\n",
    "converter_dict = {'authors': lit_eval_nan_proof, 'journal': lit_eval_nan_proof,\n",
    "                  'title': lit_eval_nan_proof, 'abstract': lit_eval_nan_proof}\n",
    "nodes = pd.read_csv(path_to_data + \"nodes_preprocessed.csv\", converters=converter_dict)\n",
    "nodes.set_index(\"id\", inplace=True)\n",
    "training = pd.read_csv(path_to_data + \"training_features.txt\")\n",
    "training.set_index(\"my_index\", inplace=True)\n",
    "testing = pd.read_csv(path_to_data + \"testing_features.txt\")\n",
    "testing.set_index(\"my_index\", inplace=True)\n",
    "\n",
    "# create author graph\n",
    "# vertices are authors\n",
    "# edge of weight 1 if they co-wrote a paper, 2 if they only cite each other\n",
    "\n",
    "# create empty directed graph\n",
    "g = igraph.Graph(directed=True)"
   ]
  },
  {
   "cell_type": "code",
   "execution_count": null,
   "metadata": {},
   "outputs": [],
   "source": [
    "# add vertices\n",
    "authors = nodes['authors']\n",
    "authors_set = list(set(authors.dropna().sum()))\n",
    "g.add_vertices(authors_set)"
   ]
  }
 ],
 "metadata": {
  "kernelspec": {
   "display_name": "Python 3",
   "language": "python",
   "name": "python3"
  },
  "language_info": {
   "codemirror_mode": {
    "name": "ipython",
    "version": 3
   },
   "file_extension": ".py",
   "mimetype": "text/x-python",
   "name": "python",
   "nbconvert_exporter": "python",
   "pygments_lexer": "ipython3",
   "version": "3.5.2"
  }
 },
 "nbformat": 4,
 "nbformat_minor": 2
}
